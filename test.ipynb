{
 "cells": [
  {
   "cell_type": "code",
   "execution_count": null,
   "metadata": {},
   "outputs": [],
   "source": [
    "try:\n",
    "    cursor_sys_trend = coll_daily_sys.find({\n",
    "        \"metadata.timeWindow\": \"hourly\",\n",
    "        \"timestamp\": {\"$gte\": trend_start_dt, \"$lt\": yesterday_end_dt} # Fetch N days\n",
    "    }).sort(\"timestamp\", 1) # Sort by time for plotting\n",
    "\n",
    "    records_sys_trend = list(cursor_sys_trend)\n",
    "\n",
    "    if not records_sys_trend:\n",
    "        print(f\"No daily system records found for the last {N_DAYS_FOR_TRENDS} days. Skipping trend plots.\")\n",
    "    else:\n",
    "        flat_records_sys_trend = flatten_metric_data(records_sys_trend)\n",
    "        df_sys_trend = pd.DataFrame(flat_records_sys_trend)\n",
    "        df_sys_trend['timestamp'] = pd.to_datetime(df_sys_trend['timestamp'])\n",
    "        df_sys_trend = df_sys_trend.set_index('timestamp')\n",
    "        cols=list(df_sys_trend.columns)\n",
    "\n",
    "        print(f\"Loaded {len(df_sys_trend)} daily system records for trend analysis.\")\n",
    "\n",
    "        # --- Plotting ---\n",
    "        plt.style.use('seaborn-v0_8-whitegrid') # Use a nice style\n",
    "        fig, axes = plt.subplots(len(cols), 1, figsize=(12, 5*len(cols)), sharex=True) # 4 plots vertically\n",
    "\n",
    "        for i,col in enumerate(cols):\n",
    "            \n",
    "            for comp_id in df_sys_trend['metadata_companyID'].unique():\n",
    "                df_comp = df_sys_trend[df_sys_trend['metadata_companyID'] == comp_id]\n",
    "                axes[i].plot(df_comp.index, df_comp[col], marker='.', linestyle='-', label=f'Comp {comp_id}')\n",
    "            axes[i].set_ylabel(col)\n",
    "            axes[i].set_title(f'Hourly System {col}')\n",
    "            axes[i].legend()\n",
    "            axes[i].grid(True)\n",
    "\n",
    "\n",
    "        # Improve date formatting on x-axis\n",
    "        axes[-1].xaxis.set_major_formatter(mdates.DateFormatter('%Y-%m-%d'))\n",
    "        plt.xticks(rotation=45)\n",
    "        plt.xlabel('Date')\n",
    "        plt.tight_layout()\n",
    "        plt.show()\n",
    "\n",
    "except Exception as e:"
   ]
  }
 ],
 "metadata": {
  "language_info": {
   "name": "python"
  }
 },
 "nbformat": 4,
 "nbformat_minor": 2
}
